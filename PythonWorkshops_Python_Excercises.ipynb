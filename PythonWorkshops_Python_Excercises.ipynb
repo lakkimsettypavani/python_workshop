{
 "cells": [
  {
   "cell_type": "markdown",
   "metadata": {},
   "source": [
    "### Try it #01\n",
    "Now write a program which prints Hello to the world !!!<br>\n",
    "(after typing the code , press Shift+Enter to run it)"
   ]
  },
  {
   "cell_type": "code",
   "execution_count": 1,
   "metadata": {},
   "outputs": [
    {
     "name": "stdout",
     "output_type": "stream",
     "text": [
      "Hello to the world !!!\n"
     ]
    }
   ],
   "source": [
    "#Add your code here\n",
    "print(\"Hello to the world !!!\")"
   ]
  },
  {
   "cell_type": "markdown",
   "metadata": {},
   "source": [
    "[Back to Practice](PythonWorkshops_Python_Programming.ipynb#Complete--Try-it-#01)"
   ]
  },
  {
   "cell_type": "markdown",
   "metadata": {},
   "source": [
    "### Try it #02\n",
    "Assign value 100 to a <br> \n",
    "Check the type of a <br>\n",
    "Assign value a*2.3 to a <br>\n",
    "Check the type of a <br>\n",
    "Assign value \"checkType\" to a <br>\n",
    "check the type of a <br>\n",
    "try changing the value of a from int, float, string, boolean and verify types. "
   ]
  },
  {
   "cell_type": "code",
   "execution_count": 1,
   "metadata": {},
   "outputs": [
    {
     "name": "stdout",
     "output_type": "stream",
     "text": [
      "<class 'int'>\n",
      "<class 'str'>\n",
      "<class 'int'>\n",
      "<class 'int'>\n",
      "<class 'float'>\n",
      "<class 'str'>\n",
      "<class 'bool'>\n"
     ]
    }
   ],
   "source": [
    "#Add your code here\n",
    "\n",
    "a = 100\n",
    "print(type(a))\n",
    "\n",
    "a *= 2.3\n",
    "\n",
    "a = \"checkType\"\n",
    "print(type(a))\n",
    "\n",
    "a = 1\n",
    "print(type(a))\n",
    "\n",
    "a = int(a)\n",
    "print(type(a))\n",
    "\n",
    "a = float(a)\n",
    "print(type(a))\n",
    "\n",
    "a = str(a)\n",
    "print(type(a))\n",
    "\n",
    "a = bool(a)\n",
    "print(type(a))"
   ]
  },
  {
   "cell_type": "markdown",
   "metadata": {},
   "source": [
    "[Back to Practice](PythonWorkshops_Python_Programming.ipynb#Complete--Try-it-#02)"
   ]
  },
  {
   "cell_type": "markdown",
   "metadata": {},
   "source": [
    "### Try it #03\n",
    "\n",
    "Apply all arthimetic Operators on 23 and 4"
   ]
  },
  {
   "cell_type": "code",
   "execution_count": 2,
   "metadata": {},
   "outputs": [
    {
     "name": "stdout",
     "output_type": "stream",
     "text": [
      "27\n",
      "19\n",
      "5.75\n",
      "92\n"
     ]
    }
   ],
   "source": [
    "#Add your code here\n",
    "print(23+4)\n",
    "print(23-4)\n",
    "print(23/4)\n",
    "print(23*4)"
   ]
  },
  {
   "cell_type": "markdown",
   "metadata": {},
   "source": [
    "[Back to Practice](PythonWorkshops_Python_Programming.ipynb#Complete--Try-it-#03)"
   ]
  },
  {
   "cell_type": "markdown",
   "metadata": {},
   "source": [
    "### Try it #04\n",
    "\n",
    "Apply all comparission operators on 1 and -1"
   ]
  },
  {
   "cell_type": "code",
   "execution_count": 3,
   "metadata": {},
   "outputs": [
    {
     "name": "stdout",
     "output_type": "stream",
     "text": [
      "True\n",
      "False\n",
      "True\n",
      "False\n"
     ]
    }
   ],
   "source": [
    "#Add your code here\n",
    "print(1==1)\n",
    "print(1!=1)\n",
    "print(1>-1)\n",
    "print(1<-1)"
   ]
  },
  {
   "cell_type": "markdown",
   "metadata": {},
   "source": [
    "[Back to Practice](PythonWorkshops_Python_Programming.ipynb#Complete--Try-it-#04)"
   ]
  },
  {
   "cell_type": "markdown",
   "metadata": {},
   "source": [
    "### Try it #05\n",
    "\n",
    "Apply Logical Operators between a and b given a = True and b = False"
   ]
  },
  {
   "cell_type": "code",
   "execution_count": 4,
   "metadata": {},
   "outputs": [
    {
     "name": "stdout",
     "output_type": "stream",
     "text": [
      "False\n",
      "True\n",
      "False\n",
      "True\n"
     ]
    }
   ],
   "source": [
    "a = True\n",
    "b = False\n",
    "\n",
    "print(a and b)\n",
    "print(a or b)\n",
    "print(not a)\n",
    "print(not b)"
   ]
  },
  {
   "cell_type": "markdown",
   "metadata": {},
   "source": [
    "[Back to Practice](PythonWorkshops_Python_Programming.ipynb#Complete--Try-it-#05)"
   ]
  },
  {
   "cell_type": "markdown",
   "metadata": {},
   "source": [
    " Try it #06\n",
    "\n",
    "Create a table like output with rows 0 0, 0 1, 1 0, 1 1, 1, 0 and columns as &, |, ^, ~, >>, <<\n",
    "Fill the table with results of applying operators in columns to the values in rows. AS below, \n",
    "\n",
    "<img src=\"https://www.electrical4u.com/images/january16/1454934796.GIF\" />"
   ]
  },
  {
   "cell_type": "code",
   "execution_count": 5,
   "metadata": {},
   "outputs": [
    {
     "name": "stdout",
     "output_type": "stream",
     "text": [
      "A           B      &   |   ^    >>   <<\n",
      "0           0     0    0   0   0   0\n",
      "0           1     0    1   1   0   0\n",
      "1           0     0    1   1   1   1\n",
      "1           1     1    1   0   0   2\n",
      "0           0     0    0   0   0   0\n",
      "A ~A\n",
      "0 -1\n",
      "1 -2\n"
     ]
    }
   ],
   "source": [
    "#Add your code here\n",
    "\n",
    "print(\"A           B      &   |   ^    >>   <<\")\n",
    "print(\"0           0     \" + str(0 & 0) + str(\"    \") + str(0 | 0) + str(\"   \") + str(0 ^ 0) + str(\"   \") + str(0 >> 0) + str(\"   \") + str(0 << 0))\n",
    "print(\"0           1     \" + str(0 & 1) + str(\"    \") + str(0 | 1) + str(\"   \") + str(0 ^ 1) + str(\"   \") + str(0 >> 1) + str(\"   \") + str(0 << 1))\n",
    "print(\"1           0     \" + str(1 & 0) + str(\"    \") + str(1 | 0) + str(\"   \") + str(1 ^ 0) + str(\"   \") + str(1 >> 0) + str(\"   \") + str(1 << 0))\n",
    "print(\"1           1     \" + str(1 & 1) + str(\"    \") + str(1 | 1) + str(\"   \") + str(1 ^ 1) + str(\"   \") + str(1 >> 1) + str(\"   \") + str(1 << 1))\n",
    "print(\"0           0     \" + str(0 & 0) + str(\"    \") + str(0 | 0) + str(\"   \") + str(0 ^ 0) + str(\"   \") + str(0 >> 0) + str(\"   \") + str(0 << 0))\n",
    "\n",
    "\n",
    "print(\"A ~A\")\n",
    "print(\"0\" + str(\" \") + str(~0))\n",
    "print(\"1\" + str(\" \") + str(~1))"
   ]
  },
  {
   "cell_type": "markdown",
   "metadata": {},
   "source": [
    "[Back to Practice](PythonWorkshops_Python_Programming.ipynb#Complete--Try-it-#06)"
   ]
  },
  {
   "cell_type": "markdown",
   "metadata": {
    "collapsed": true
   },
   "source": [
    "### Try it #07\n",
    "\n",
    "Somu came to a store and bought 2 products A and B.<br> \n",
    "Product A cost 10 and Product B cost 20. <br>\n",
    "Take input from Somu needs how many product A ? <br>\n",
    "and how many product B ? <br>\n",
    "As Somu is a regular customer give him 10% discount (use [Arthimetic operations](PythonWorkshops_Python_Programming.ipynb#Arthmetic-Operators)) <br>\n",
    "Tell Somu, what is the final bill. "
   ]
  },
  {
   "cell_type": "code",
   "execution_count": 11,
   "metadata": {},
   "outputs": [
    {
     "name": "stdout",
     "output_type": "stream",
     "text": [
      "enter no of products of a:5\n",
      "enter no of products of b:5\n",
      "135.0\n"
     ]
    }
   ],
   "source": [
    "#Add your code here\n",
    "a=int(input(\"enter no of products of a:\"))\n",
    "b=int(input(\"enter no of products of b:\"))\n",
    "total=a*10+b*20\n",
    "total=total-total*(0.1)\n",
    "print(total)"
   ]
  },
  {
   "cell_type": "markdown",
   "metadata": {},
   "source": [
    "[Back to Practice](PythonWorkshops_Python_Programming.ipynb#Complete--Try-it-#07)"
   ]
  },
  {
   "cell_type": "markdown",
   "metadata": {},
   "source": [
    "### Try it #08\n",
    "\n",
    "Take the program you wrote in [Try it #07]()<br>\n",
    "pass the product A and B prices as arguments and take the values from sys.argv<br>\n",
    "and rerun the program. <br>\n",
    "\n",
    "AS you use files here, you need to learn how to run python from command line. <br>\n",
    "If you are Anaconda Navigator --> Click on Environment --> Root Start button --> Open Terminal <br>\n",
    "you can run python <pythonfile> <args> here <br>\n",
    "or if you installed python directly and set it in environment variables, you can goto command prompt and run python <filename> <args> <br>"
   ]
  },
  {
   "cell_type": "markdown",
   "metadata": {},
   "source": [
    "[Back to Practice](PythonWorkshops_Python_Programming.ipynb#Complete--Try-it-#08)"
   ]
  },
  {
   "cell_type": "code",
   "execution_count": null,
   "metadata": {},
   "outputs": [],
   "source": [
    "import sys\n",
    "cost_of_A = 20\n",
    "cost_of_B = 20\n",
    "\n",
    "\n",
    "units_of_A = int(sys.argv[1])\n",
    "units_of_B = int(sys.argv[2])\n",
    "print(units_of_A)\n",
    "print(units_of_B)\n",
    "\n",
    "discount = 0.10\n",
    "\n",
    "final_bill = (units_of_A * cost_of_A + units_of_B * cost_of_B) * discount\n",
    "\n",
    "print(\"The final bill: \" + str(round(final_bill, 2)"
   ]
  },
  {
   "cell_type": "markdown",
   "metadata": {},
   "source": [
    "### Try it #09\n",
    "You are back from US and you have only dollars, so you need cash in Rupees, you went to money exchange center. the person there will ask you how many dollars ? he will convert it to ruppees, deduct conversion charge and tell you the amount you will get. \n",
    "\n",
    "Write a function which will take money in dollars and return rupees (use 1 dollar = 65 Rs)\n",
    "Write another function which deducts 1% of the converted money value as conversion charge and give the result to customer"
   ]
  },
  {
   "cell_type": "code",
   "execution_count": 12,
   "metadata": {},
   "outputs": [
    {
     "name": "stdout",
     "output_type": "stream",
     "text": [
      "Enter number of dollars: 5\n",
      "321.75\n"
     ]
    }
   ],
   "source": [
    "#Add your code here \n",
    "def read_number_of_dollars():\n",
    "    number_of_dollars = int(input(\"Enter number of dollars: \"))\n",
    "    return number_of_dollars\n",
    "\n",
    "\n",
    "def deduct_charges(amount):\n",
    "    deduction_charges = 0.01 * amount\n",
    "    return amount - deduction_charges\n",
    "\n",
    "\n",
    "def find_amount_in_rupees():\n",
    "    amount = read_number_of_dollars() * rupee_conversion_rate\n",
    "    return deduct_charges(amount)\n",
    "\n",
    "\n",
    "rupee_conversion_rate = 65\n",
    "\n",
    "if __name__ == \"__main__\":\n",
    "    amount = find_amount_in_rupees()\n",
    "    print(amount)"
   ]
  },
  {
   "cell_type": "markdown",
   "metadata": {},
   "source": [
    "[Back to Practice](PythonWorkshops_Python_Programming.ipynb#Complete--Try-it-#09)"
   ]
  },
  {
   "cell_type": "markdown",
   "metadata": {},
   "source": [
    "### Try it #10\n",
    "Does this program work in real world ? (Refer to program above 10th Excercise in Practie notebook)<br>\n",
    "<i>when someone asks you this question, \n",
    "you need to look at your solution and check,<br> \n",
    "- what are your assumptions in the program?<br> \n",
    "- did you cover both <b>success and failure</b> steps at <b>each stage.</b> </i><br>\n",
    "Before moving to the next section, Identify atleast one gap in above program which helps in calculating Somu bill properly and write your program below?<br><br>\n"
   ]
  },
  {
   "cell_type": "code",
   "execution_count": 13,
   "metadata": {},
   "outputs": [
    {
     "name": "stdout",
     "output_type": "stream",
     "text": [
      "enter the no of products2\n",
      "Enter the product Name, A, B, C,: A\n",
      "Enter the number of products: 3\n",
      "Enter the product Name, A, B, C,: B\n",
      "Enter the number of products: 4\n",
      "99.0\n"
     ]
    }
   ],
   "source": [
    "cost_A = 10\n",
    "cost_B = 20\n",
    "cost_C = 30\n",
    "bill_amount = 0\n",
    "#Below is a function defintion \n",
    "def apply_discount(amount,discount):\n",
    "    #amount and discount are he parameters to the function\n",
    "    final_amount = amount - (amount*discount)/100\n",
    "    #final_amount is the return value from function, if there is nothing you can say return None\n",
    "    return final_amount\n",
    "ch=int(input(\"enter the no of products\"))\n",
    "for i in range(ch):\n",
    "    #To take input from users\n",
    "    product_name  = input(\"Enter the product Name, A, B, C,: \")\n",
    "    if(product_name == \"NM\"):\n",
    "        break\n",
    "    elif(product_name != \"A\" and product_name != \"B\" and product_name != \"C\" ):\n",
    "        print(\"Invalid product Name, check it again - \",product_name)\n",
    "        continue\n",
    "    no_of_prods = input(\"Enter the number of products: \")\n",
    "    if(product_name == \"A\"):\n",
    "        bill_amount += int(no_of_prods)*cost_A\n",
    "    elif(product_name == \"B\"):\n",
    "        bill_amount += int(no_of_prods)*cost_B\n",
    "    elif(product_name == \"C\"):\n",
    "        bill_amount += int(no_of_prods)*cost_C\n",
    "    else:\n",
    "        bill_amount += int(no_of_prods)*30\n",
    "print(apply_discount(bill_amount,10))\n",
    "    "
   ]
  },
  {
   "cell_type": "markdown",
   "metadata": {},
   "source": [
    "[Back to Practice](PythonWorkshops_Python_Programming.ipynb#Complete--Try-it-#10)"
   ]
  },
  {
   "cell_type": "markdown",
   "metadata": {},
   "source": [
    "### Try it #11\n",
    "\n",
    "Take the billing system program and rewrite it using 2 data structures as <br>\n",
    "products_list, Product_cost_list   <br>\n",
    "Where ever you are accessing product names and costs you should use lists <br>"
   ]
  },
  {
   "cell_type": "code",
   "execution_count": 18,
   "metadata": {},
   "outputs": [
    {
     "name": "stdout",
     "output_type": "stream",
     "text": [
      "enter the no of products2\n",
      "Enter the product Name, A, B, C,: A\n",
      "enter the no of products of your product2\n",
      "Enter the product Name, A, B, C,: B\n",
      "enter the no of products of your product5\n",
      "108.0\n"
     ]
    }
   ],
   "source": [
    "#Add your code here\n",
    "product_list=[\"A\",\"B\",\"C\"]\n",
    "product_cost_list=[10,20,30]\n",
    "amount=0\n",
    "def apply_discount(amount,discount):\n",
    "    final_amount = amount - (amount*discount)/100\n",
    "    return final_amount\n",
    "ch=int(input(\"enter the no of products\"))\n",
    "for i in range(ch):\n",
    "    product_name  = input(\"Enter the product Name, A, B, C,: \")\n",
    "    x=product_list.index(product_name)\n",
    "    y=int(input(\"enter the no of products of your product:\"))\n",
    "    amount+=(product_cost_list[x]*y)\n",
    "discount=10\n",
    "print(apply_discount(amount,discount))"
   ]
  },
  {
   "cell_type": "markdown",
   "metadata": {},
   "source": [
    "[Back to Practice](PythonWorkshops_Python_Programming.ipynb#Complete--Try-it-#11)"
   ]
  },
  {
   "cell_type": "markdown",
   "metadata": {},
   "source": [
    "### Try it #12\n",
    "\n",
    "Dictonaries<br>\n",
    "\n",
    "you are in a business conference, the french team near you are your potential clients, you want to greet them and talk about their new project ? <br>\n",
    "To start with you ask a question , if they can speak english and they say No. <br>\n",
    "So you need to talk to them in French, create a dictonary out of the below table, key = english word --> value is a list of french word,Pronunciation.<br>\n",
    "So now when ever you want to talk something in english , you say that sentence to this program and it translates it to French for you <br>\n",
    "If some words are not present in below conversion table , keep the same word in english to french. <br>\n",
    "\n",
    "Example: <br>\n",
    "\n",
    "Enter your setence: How are you ? <br>\n",
    "In French: Comment allez-vous?  -  kommahng tahlay voo <br>\n",
    "\n",
    "Enter your setence: How many products ? <br>\n",
    "In French: Combien? products - kong-byang products <br>\n",
    "\n",
    "Exit conversation if entered setence is bye or exit<br>\n",
    "\n",
    "\n",
    "<table class=\"languageresults\">       \n",
    "<tbody><tr>\n",
    "<th><div><b>English</b></div></th>\n",
    "<th><div><b>French</b></div><div><i>Pronunciation</i></div></th>\n",
    "</tr>\n",
    "<tr>\n",
    "<td>Yes/No</td>\n",
    "<td><div><b>Oui/Non</b></div><div><i>wee/nong</i></div></td>\n",
    "</tr>\n",
    "<tr>\n",
    "<td>Yes, please/No, thank you</td>\n",
    "<td><div><b>Oui, s'il vous plaît/Non, merci</b></div><div><i>wee, seel voo play/nong, mair-see</i></div></td>\n",
    "</tr>\n",
    "<tr>\n",
    "<td>Please</td>\n",
    "<td><div><b>S'il vous plaît</b></div><div><i>seel voo play</i></div></td>\n",
    "</tr>\n",
    "<tr>\n",
    "<td>Thank you</td>\n",
    "<td><div><b>Merci (madame/monsieur)</b></div><div><i>mair-see (mah-dahm/mer-syer)</i></div></td>\n",
    "</tr>\n",
    "<tr>\n",
    "<td>You're welcome</td>\n",
    "<td><div><b>Il n'y a pas de quoi</b></div><div><i>eel nyah pah der kwah</i></div></td>\n",
    "</tr>\n",
    "<tr>\n",
    "<td>Here is/are</td>\n",
    "<td><div><b>Voici...</b></div><div><i>vwah-see</i></div></td>\n",
    "</tr>\n",
    "<tr>\n",
    "<td>There is/are</td>\n",
    "<td><div><b>Voilà...</b></div><div><i>vwah-la</i></div></td>\n",
    "</tr>\n",
    "<tr>\n",
    "<td>Hello/Good morning/afternoon</td>\n",
    "<td><div><b>Bonjour, (madame/monsieur)</b></div><div><i>bong-zhoor, (mah-dahm/mer-syer)</i></div></td>\n",
    "</tr>\n",
    "<tr>\n",
    "<td>Hello/Good evening</td>\n",
    "<td><div><b>Bonsoir (madame/monsieur)</b></div><div><i>bong-swahr, (mah-dahm/mer-syer)</i></div></td>\n",
    "</tr>\n",
    "<tr>\n",
    "<td>Goodbye</td>\n",
    "<td><div><b>Au revoir</b></div><div><i>oh rer-vwahr</i></div></td>\n",
    "</tr>\n",
    "<tr>\n",
    "<td>Good night</td>\n",
    "<td><div><b>Bonne nuit</b></div><div><i>bonn nwee</i></div></td>\n",
    "</tr>\n",
    "<tr>\n",
    "<td>How are you?</td>\n",
    "<td><div><b>Comment allez-vous?</b></div><div><i>kommahng tahlay voo</i></div></td>\n",
    "</tr>\n",
    "<tr>\n",
    "<td>Very well, thanks</td>\n",
    "<td><div><b>Très bien, merci</b></div><div><i>tray byang mair-see</i></div></td>\n",
    "</tr>\n",
    "<tr>\n",
    "<td>Excuse me</td>\n",
    "<td><div><b>Excusez-moi</b></div><div><i>ex-kewzay mwah</i></div></td>\n",
    "</tr>\n",
    "<tr>\n",
    "<td>Do you speak English?</td>\n",
    "<td><div><b>Est-ce que vous parlez anglais?</b></div><div><i>essker voo pahrlay ahng-glay</i></div></td>\n",
    "</tr>\n",
    "<tr>\n",
    "<td>Can you help me?</td>\n",
    "<td><div><b>Est-ce que vous pouvez m'aider?</b></div><div><i>essker voo poovay may-day</i></div></td>\n",
    "</tr>\n",
    "<tr>\n",
    "<td>I don't understand.</td>\n",
    "<td><div><b>Je ne comprends pas.</b></div><div><i>zher ner kong-prahng pah</i></div></td>\n",
    "</tr>\n",
    "<tr>\n",
    "<td>I don't know.</td>\n",
    "<td><div><b>Je ne sais pas.</b></div><div><i>zher ner say pah</i></div></td>\n",
    "</tr>\n",
    "<tr>\n",
    "<td>Could you please write it down</td>\n",
    "<td><div><b>Est-ce que vous pouvez l'écrire?</b></div><div><i>essker voo poovay lay-kreer</i></div></td>\n",
    "</tr>\n",
    "<tr>\n",
    "<td>Sorry</td>\n",
    "<td><div><b>Désolé(e)</b></div><div><i>day-zo-lay</i></div></td>\n",
    "</tr>\n",
    "<tr>\n",
    "<td>Leave me alone!</td>\n",
    "<td><div><b>Laissez-moi tranquille.</b></div><div><i>lay-say mwah trahng-keel</i></div></td>\n",
    "</tr>\n",
    "<tr>\n",
    "<td>Where?</td>\n",
    "<td><div><b>Où?</b></div><div><i>oo</i></div></td>\n",
    "</tr>\n",
    "<tr>\n",
    "<td>When?</td>\n",
    "<td><div><b>Quand?</b></div><div><i>kahng</i></div></td>\n",
    "</tr>\n",
    "<tr>\n",
    "<td>How?</td>\n",
    "<td><div><b>Comment?</b></div><div><i>kommahng</i></div></td>\n",
    "</tr>\n",
    "<tr>\n",
    "<td>Why?</td>\n",
    "<td><div><b>Pourquoi?</b></div><div><i>poor-kwah</i></div></td>\n",
    "</tr>\n",
    "<tr>\n",
    "<td>Who?</td>\n",
    "<td><div><b>Qui?</b></div><div><i>kee</i></div></td>\n",
    "</tr>\n",
    "<tr>\n",
    "<td>Which?</td>\n",
    "<td><div><b>Lequel?/Laquelle?</b></div><div><i>ler-kell/lah-kell</i></div></td>\n",
    "</tr>\n",
    "<tr>\n",
    "<td>Where is...?</td>\n",
    "<td><div><b>Où est...?</b></div><div><i>oo ay</i></div></td>\n",
    "</tr>\n",
    "<tr>\n",
    "<td>How much?</td>\n",
    "<td><div><b>Combien?</b></div><div><i>kong-byang</i></div></td>\n",
    "</tr>\n",
    "<tr>\n",
    "<td>How many?</td>\n",
    "<td><div><b>Combien?</b></div><div><i>kong-byang</i></div></td>\n",
    "</tr>\n",
    "<tr>\n",
    "<td>What's that?</td>\n",
    "<td><div><b>Qu'est-ce que c'est?</b></div><div><i>kessker say</i></div></td>\n",
    "</tr>\n",
    "<tr>\n",
    "<td>I'd like...</td>\n",
    "<td><div><b>Je voudrais...</b></div><div><i>zher voodray</i></div></td>\n",
    "</tr>\n",
    "<tr>\n",
    "<td>I want...</td>\n",
    "<td><div><b>Je veux...</b></div><div><i>zher ver</i></div></td>\n",
    "</tr>\n",
    "<tr>\n",
    "<td>I like it.</td>\n",
    "<td><div><b>Ça me plaît.</b></div><div><i>sahm play</i></div></td>\n",
    "</tr>\n",
    "<tr>\n",
    "<td>I don't like it.</td>\n",
    "<td><div><b>Ça ne me plaît pas.</b></div><div><i>sah ner mer play pah</i></div></td>\n",
    "</tr>\n",
    "<tr>\n",
    "<td>OK/Agreed.</td>\n",
    "<td><div><b>Ça va/d'accord.</b></div><div><i>sah vah/dah-korr</i></div></td>\n",
    "</tr>\n",
    "<tr>\n",
    "<td>That's fine.</td>\n",
    "<td><div><b>C'est bien.</b></div><div><i>say byang</i></div></td>\n",
    "</tr>\n",
    "<tr>\n",
    "<td>I love you (singular)</td>\n",
    "<td><div><b>Je t'aime</b></div><div><i>zhuh tem</i></div></td>\n",
    "</tr>\n",
    "<tr>\n",
    "<td>I love you! (plural)</td>\n",
    "<td><div><b>Je vous aime</b></div><div><i>zhuh voo zem</i></div></td>\n",
    "</tr>\n",
    "</tbody></table>"
   ]
  },
  {
   "cell_type": "code",
   "execution_count": 2,
   "metadata": {},
   "outputs": [
    {
     "name": "stdout",
     "output_type": "stream",
     "text": [
      "enter english sentenceYes\n",
      "Oui\n",
      "enter english sentencebye\n"
     ]
    }
   ],
   "source": [
    "#Add your code here \n",
    "l={\"Yes\":\"Oui\",\"No\":\"Non\",\"please\":\"s'il vous plaÃ®t\",\"No\":\"Non\",\"thank you\":\"Merci\",\"You're welcome\":\"Il n'y a pas de quoi\",\"Here is/are\":\"Voici...\",\"Good morning\" :\"Bonjour\",\"afternoon\":\"(madame/monsieur)\",\"Good evening\":\"Bonsoir (madame/monsieur)\",\"Goodbye\":\"Au revoir\",\"Good night\":\"Bonne nuit\",\"How are you?\":\"Comment allez-vous?\",\"Very well\":\"TrÃ¨s bien\",\"thanks\":\"merci\",\"Excuse me\":\"Excusez-moi\",\"Can you help me?\":\"Est-ce que vous pouvez m'aider?\",\"I don't understand.\":\"Je ne comprends pas.\",\"I don't know.\":\"Je ne sais pas.\",\"Could you please write it down\":\"Est-ce que vous pouvez l'Ã©crire?\",\"Sorry\":\"DÃ©solÃ©(e)\",\"Leave me alone!\":\"Laissez-moi tranquille.\",\"Where?\":\"OÃ¹?\",\"When?\":\"Quand?\",\"How?\":\"Comment?\",\"Why?\":\"Pourquoi?\",\"Who?\":\"Qui?\",\"Which?\":\"Lequel?/Laquelle?\",\"Where is...?\":\"OÃ¹ est...?\",\"How much?\":\"Combien?\",\"How many?\":\"Combien?\",\"What's that?\":\"Qu'est-ce que c'est?\",\"I'd like...\":\"Je voudrais...\",\"I want...\":\"Je veux...\",\"OK/Agreed.\":\"Ã‡a va/d'accord.\",\"That's fine.\":\"C'est bien.\",\"Do you speak English?\":\"Est-ce que vous parlez anglais?\"}\n",
    "x=input(\"enter english sentence\")\n",
    "while(x!=\"bye\"):\n",
    "      print(l[x])\n",
    "      x=input(\"enter english sentence\")"
   ]
  },
  {
   "cell_type": "markdown",
   "metadata": {},
   "source": [
    "[Back to Practice](PythonWorkshops_Python_Programming.ipynb#Complete--Try-it-#12)"
   ]
  },
  {
   "cell_type": "markdown",
   "metadata": {},
   "source": [
    "### Try it #13\n",
    "\n",
    "Strings<br>\n",
    "\n",
    "You are presenting text to students on python strings, but its not formated and has few mistakes, you need to correct it using a python program. Fix the below issues. Input is the setence and output needs to be the same setence without mentioed issues. <br>\n",
    "\n",
    "Sentence:<br>\n",
    "\"<i> Using string methods in Jython is very he1pful. but you need to have a clear understanding of the method syntax and usage or e1se your jython program may fail complet1y. There is no wonder jython string methods are usefu1 in handling text proper1y.  </i>\"<br>\n",
    "\n",
    "Issues:<br>\n",
    "1. Python is miss typed as Jython or jython\n",
    "2. l in few places is typed as 1. \n",
    "3. Setnence starting word after . (full stop symbol) should start with capital letter\n",
    "4. Make syntax and usage words all capitals as they need emphasis. "
   ]
  },
  {
   "cell_type": "code",
   "execution_count": 15,
   "metadata": {},
   "outputs": [
    {
     "name": "stdout",
     "output_type": "stream",
     "text": [
      "Using string methods in Python is very helpful. But you need to have a clear understanding of the method SYNTAX and USAGE or else your Python program may fail completly. There is no wonder Python string methods are useful in handling text properly. \n"
     ]
    }
   ],
   "source": [
    "#Add your code here\n",
    "input_string = \"Using string methods in Jython is very he1pful. but you need to have a clear understanding of the method syntax and usage or e1se your jython program may fail complet1y. There is no wonder jython string methods are usefu1 in handling text proper1y.\"\n",
    "\n",
    "def replace_python(input_string):\n",
    "    list_of_words = input_string.split()\n",
    "    for i in list_of_words:\n",
    "        if i == \"Jython\" or i == \"jython\":\n",
    "            list_of_words[list_of_words.index(i)] = \"Python\"\n",
    "    \n",
    "    word_replaced_string = str()\n",
    "    \n",
    "    for i in list_of_words:\n",
    "        word_replaced_string += i\n",
    "        word_replaced_string += \" \"\n",
    "    \n",
    "    return word_replaced_string\n",
    "\n",
    "\n",
    "def make_capital_after_full_stop(input_string):\n",
    "    sentences = input_string.split(\". \")\n",
    "    output_sentence = str()\n",
    "    for sentence in sentences:\n",
    "        if len(sentence) > 0:\n",
    "            capital_sentence = sentences[sentences.index(sentence)][0].upper() + sentences[sentences.index(sentence)][1:]\n",
    "            output_sentence += capital_sentence\n",
    "            output_sentence += \". \"\n",
    "    return output_sentence\n",
    "\n",
    "\n",
    "def replace_one(input_string):\n",
    "    output_string = str()\n",
    "    output_string = input_string.replace(\"1\", \"l\")\n",
    "    return output_string\n",
    "\n",
    "def capitalise(input_string):\n",
    "    output_string = str()\n",
    "    list_of_words = input_string.split()\n",
    "    for i in list_of_words:\n",
    "        if i == \"syntax\" or i == \"usage\":\n",
    "            list_of_words[list_of_words.index(i)] = i.upper()\n",
    "    \n",
    "    for i in list_of_words:\n",
    "        output_string += i\n",
    "        output_string += \" \"\n",
    "    \n",
    "    return output_string\n",
    "    \n",
    "    \n",
    "if __name__ == \"__main__\":\n",
    "    print(capitalise(replace_one(make_capital_after_full_stop(replace_python(input_string)))))\n"
   ]
  },
  {
   "cell_type": "markdown",
   "metadata": {},
   "source": [
    "[Back to Practice](PythonWorkshops_Python_Programming.ipynb#Complete--Try-it-#13)"
   ]
  },
  {
   "cell_type": "markdown",
   "metadata": {},
   "source": [
    "### Try it #14\n",
    "\n",
    "File handling<br>\n",
    "\n",
    "Function 1:\n",
    "Somu want to create a file with all his bills so far, so take input from him until he says Done, and write it to a file, Bill no\\tDate(DD/MM/YYYY)\\tBill_amount\n",
    "\n",
    "Function 2:\n",
    "Now Somu wants to know what is his total expense out of bills. \n",
    "(optional) see if you can generate sub totals for each month. "
   ]
  },
  {
   "cell_type": "code",
   "execution_count": null,
   "metadata": {},
   "outputs": [],
   "source": [
    "#Add your code here\n",
    "def read_bills():\n",
    "    data = input(\"Enter data: \")\n",
    "    data = data.split()\n",
    "    billno = data[0]\n",
    "    date = data[1]\n",
    "    bill_amount = data[2]\n",
    "    return [billno, date, bill_amount]\n",
    "\n",
    "\n",
    "def calculate_total_bill(data):\n",
    "#     print(data)\n",
    "    total_amount = int()\n",
    "    bill = data[2]\n",
    "    bill = bill.strip()\n",
    "    total_amount += int(bill)\n",
    "    \n",
    "    return total_amount\n",
    "\n",
    "\n",
    "def calculate_monthly_bill(data, month):\n",
    "    date = data[1]\n",
    "    data_month = date.split(\"/\")[1]\n",
    "    total_bill = int()\n",
    "    if str(data_month) == str(month):\n",
    "        total_bill += int(data[2])\n",
    "    \n",
    "    return total_bill\n",
    "        \n",
    "\n",
    "if __name__ == \"__main__\":\n",
    "    \n",
    "    while True:\n",
    "        response = input(\"Do you want to add bill or read from bills:[add/ read]: \")\n",
    "        if response == \"add\":\n",
    "            input_data = read_bills()\n",
    "            with open(\"bills.csv\", \"a+\") as b:\n",
    "                b.write(str(input_data[0]) + str(\",\") + str(input_data[1]) + str(\",\") + str(input_data[2]) + str(\"\\n\"))\n",
    "        \n",
    "        if response == \"read\":\n",
    "            with open(\"bills.csv\", \"r\") as b:\n",
    "                data = list()\n",
    "                total_bill = int()\n",
    "                monthly_bill = int()\n",
    "                month = input(\"Which month you want to calculate the bill: \")\n",
    "                for line in b:\n",
    "                    data = line.split(\",\")\n",
    "                    total_bill += calculate_total_bill(data)\n",
    "                    \n",
    "                    monthly_bill += calculate_monthly_bill(data, month)\n",
    "                print(total_bill)\n",
    "                print(monthly_bill)\n",
    "                \n",
    "        if response == \"Done\" or response == \"done\":\n",
    "            break"
   ]
  },
  {
   "cell_type": "markdown",
   "metadata": {},
   "source": [
    "[Back to Practice](PythonWorkshops_Python_Programming.ipynb#Complete--Try-it-#14)"
   ]
  },
  {
   "cell_type": "markdown",
   "metadata": {},
   "source": [
    "### Try it #15 \n",
    "\n",
    "Exception handling<br>\n",
    "\n",
    "We have been asking Somu to enter product count and what if product count is entered as \"10 no\" which is not a number, your program may fail. <br>\n",
    "\n",
    "What if we are trying to get a product cost from list or dictonary and product is not available it will throw an error <br>\n",
    "\n",
    "Take one of Somu billing program and add exception handling, if there is no exception, say Thank you for using the system. Even if exception is there or not ask him for feedback(input). "
   ]
  },
  {
   "cell_type": "code",
   "execution_count": 1,
   "metadata": {
    "collapsed": true
   },
   "outputs": [],
   "source": [
    "#Add your code here\n",
    "def read_bills():\n",
    "    data = input(\"Enter data: \")\n",
    "    data = data.split()\n",
    "    billno = data[0]\n",
    "    date = data[1]\n",
    "    bill_amount = data[2]\n",
    "    return [billno, date, bill_amount]\n",
    "\n",
    "\n",
    "def calculate_total_bill(data):\n",
    "#     print(data)\n",
    "    total_amount = int()\n",
    "    bill = data[2]\n",
    "    bill = bill.strip()\n",
    "    total_amount += int(bill)\n",
    "    \n",
    "    return total_amount\n",
    "\n",
    "\n",
    "def calculate_monthly_bill(data, month):\n",
    "    date = data[1]\n",
    "    data_month = date.split(\"/\")[1]\n",
    "    total_bill = int()\n",
    "    if str(data_month) == str(month):\n",
    "        total_bill += int(data[2])\n",
    "    \n",
    "    return total_bill\n",
    "        \n",
    "\n",
    "if __name__ == \"__main__\":\n",
    "    \n",
    "    while True:\n",
    "        response = input(\"Do you want to add bill or read from bills:[add/ read]: \")\n",
    "        if response == \"add\":\n",
    "            input_data = read_bills()\n",
    "            with open(\"bills.csv\", \"a+\") as b:\n",
    "                b.write(str(input_data[0]) + str(\",\") + str(input_data[1]) + str(\",\") + str(input_data[2]) + str(\"\\n\"))\n",
    "        \n",
    "        if response == \"read\":\n",
    "            with open(\"bills.csv\", \"r\") as b:\n",
    "                data = list()\n",
    "                total_bill = int()\n",
    "                monthly_bill = int()\n",
    "                month = input(\"Which month you want to calculate the bill: \")\n",
    "                for line in b:\n",
    "                    data = line.split(\",\")\n",
    "                    try:\n",
    "                        total_bill += calculate_total_bill(data)\n",
    "                        monthly_bill += calculate_monthly_bill(data, month)\n",
    "                        print(\"Thank you for using the software...\")\n",
    "                    except:\n",
    "                        print(\"input data must be in arguments\\n\")\n",
    "                        \n",
    "                print(total_bill)\n",
    "                print(monthly_bill)\n",
    "                \n",
    "        if response == \"Done\" or response == \"done\":\n",
    "            break"
   ]
  },
  {
   "cell_type": "markdown",
   "metadata": {},
   "source": [
    "[Back to Practice](PythonWorkshops_Python_Programming.ipynb#Complete--Try-it-#15)"
   ]
  },
  {
   "cell_type": "markdown",
   "metadata": {},
   "source": [
    "### Try it #16\n",
    "\n",
    "List<br>\n",
    "\n",
    "In a shopping mall, you are not allowed to take outisde covers, food, drinks or bags. \n",
    "So there is a luggage room with a boy who will take your items and give you a token, when you are leaving you can give the token and take the bag. \n",
    "\n",
    "Assume there are 15 customers coming in and going out in different timings, write a program which will help in allocating and returning the item tokens. There are only 8 Cabins 1, 2, 3, 4, 5, 6, 7, 8.1, 8.2, 8.3\n",
    "\n",
    "No 2 customers should have same token and none of the higher number tokens should be allocated when lower number cabins are available. \n",
    "\n",
    "<img src=\"https://visit.gent.be/sites/default/files/images-spot/bagagedepot_gent2.JPG\" />"
   ]
  },
  {
   "cell_type": "code",
   "execution_count": null,
   "metadata": {
    "collapsed": true
   },
   "outputs": [],
   "source": [
    "#Add your code here"
   ]
  },
  {
   "cell_type": "markdown",
   "metadata": {},
   "source": [
    "Once you have completed all above excersies, please save the notebook with your name at the end \n",
    "PythonWorkshops_Python_Excercises_Raja.ipynb and upload it to the Github folder shared with you. "
   ]
  },
  {
   "cell_type": "code",
   "execution_count": null,
   "metadata": {
    "collapsed": true
   },
   "outputs": [],
   "source": []
  }
 ],
 "metadata": {
  "kernelspec": {
   "display_name": "Python 3",
   "language": "python",
   "name": "python3"
  },
  "language_info": {
   "codemirror_mode": {
    "name": "ipython",
    "version": 3
   },
   "file_extension": ".py",
   "mimetype": "text/x-python",
   "name": "python",
   "nbconvert_exporter": "python",
   "pygments_lexer": "ipython3",
   "version": "3.6.4"
  }
 },
 "nbformat": 4,
 "nbformat_minor": 2
}
